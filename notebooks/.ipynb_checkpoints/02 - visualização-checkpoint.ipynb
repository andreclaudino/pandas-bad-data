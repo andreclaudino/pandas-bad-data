{
 "cells": [
  {
   "cell_type": "code",
   "execution_count": 1,
   "metadata": {
    "ExecuteTime": {
     "end_time": "2017-07-29T14:17:45.974643Z",
     "start_time": "2017-07-29T14:17:45.563154Z"
    },
    "collapsed": true
   },
   "outputs": [],
   "source": [
    "import pandas as pd\n",
    "import numpy as np\n",
    "import bokeh\n",
    "df = pd.read_pickle('../resources/dados_ajustados.npz', compression='gzip')\n",
    "#df.set_index('id da ocorrência', inplace=True)"
   ]
  },
  {
   "cell_type": "code",
   "execution_count": null,
   "metadata": {
    "ExecuteTime": {
     "end_time": "2017-07-29T14:17:46.108532Z",
     "start_time": "2017-07-29T14:17:46.106Z"
    },
    "collapsed": true,
    "scrolled": true
   },
   "outputs": [],
   "source": [
    "df = df[df.válido == True]"
   ]
  },
  {
   "cell_type": "code",
   "execution_count": 2,
   "metadata": {
    "ExecuteTime": {
     "end_time": "2017-07-29T14:17:46.607758Z",
     "start_time": "2017-07-29T14:17:46.596476Z"
    }
   },
   "outputs": [
    {
     "name": "stdout",
     "output_type": "stream",
     "text": [
      "['ACANTHACEAE' 'ACHATOCARPACEAE' 'ADELOTHECIACEAE' 'ALISMATACEAE'\n",
      " 'ALSTROEMERIACEAE' 'AMARANTHACEAE' 'AMARYLLIDACEAE' 'ANACARDIACEAE'\n",
      " 'ANEMIACEAE' 'ANEURACEAE' 'ANNONACEAE' 'APIACEAE' 'APOCYNACEAE'\n",
      " 'APODANTHACEAE' 'AQUIFOLIACEAE' 'ARACEAE' 'ARALIACEAE' 'ARAUCARIACEAE'\n",
      " 'ARECACEAE' 'ARISTOLOCHIACEAE' 'ARNELLIACEAE' 'ASPLENIACEAE' 'ASTERACEAE'\n",
      " 'AYTONIACEAE' 'BALANOPHORACEAE' 'BEGONIACEAE' 'BERBERIDACEAE'\n",
      " 'BIGNONIACEAE' 'BIXACEAE' 'BLECHNACEAE' 'BORAGINACEAE' 'BRACHYTHECIACEAE'\n",
      " 'BROMELIACEAE']\n",
      "['ES' 'BA' 'MG' 'RJ' 'SC' 'MT' 'PR' 'SP' 'RR' 'DF' 'GO' 'CE' 'RO' 'MS' 'RS'\n",
      " 'SE' 'AL' 'mg' 'TO' 'PE' 'PA' 'AM' 'PB' '' 'RN' 'AC' 'Alagoas' 'PI' 'MA'\n",
      " '-' 'AP']\n"
     ]
    }
   ],
   "source": [
    "print(df['familia aceita'].unique())\n",
    "print(df['estado'].unique())"
   ]
  },
  {
   "cell_type": "code",
   "execution_count": 3,
   "metadata": {
    "ExecuteTime": {
     "end_time": "2017-07-29T14:17:47.227346Z",
     "start_time": "2017-07-29T14:17:47.187224Z"
    }
   },
   "outputs": [
    {
     "data": {
      "text/html": [
       "<div>\n",
       "<style>\n",
       "    .dataframe thead tr:only-child th {\n",
       "        text-align: right;\n",
       "    }\n",
       "\n",
       "    .dataframe thead th {\n",
       "        text-align: left;\n",
       "    }\n",
       "\n",
       "    .dataframe tbody tr th {\n",
       "        vertical-align: top;\n",
       "    }\n",
       "</style>\n",
       "<table border=\"1\" class=\"dataframe\">\n",
       "  <thead>\n",
       "    <tr style=\"text-align: right;\">\n",
       "      <th></th>\n",
       "      <th>familia aceita</th>\n",
       "      <th>nome aceito</th>\n",
       "      <th>literatura</th>\n",
       "      <th>código da coleção</th>\n",
       "      <th>número de catálogo/código de barras</th>\n",
       "      <th>número do coletor</th>\n",
       "      <th>coletor</th>\n",
       "      <th>ano da coleta</th>\n",
       "      <th>mês da coleta</th>\n",
       "      <th>dia da coleta</th>\n",
       "      <th>...</th>\n",
       "      <th>estado</th>\n",
       "      <th>município</th>\n",
       "      <th>localidade</th>\n",
       "      <th>latitude</th>\n",
       "      <th>longitude</th>\n",
       "      <th>família</th>\n",
       "      <th>nome científico</th>\n",
       "      <th>status SIG</th>\n",
       "      <th>válido</th>\n",
       "      <th>observações</th>\n",
       "    </tr>\n",
       "    <tr>\n",
       "      <th>id da ocorrência</th>\n",
       "      <th></th>\n",
       "      <th></th>\n",
       "      <th></th>\n",
       "      <th></th>\n",
       "      <th></th>\n",
       "      <th></th>\n",
       "      <th></th>\n",
       "      <th></th>\n",
       "      <th></th>\n",
       "      <th></th>\n",
       "      <th></th>\n",
       "      <th></th>\n",
       "      <th></th>\n",
       "      <th></th>\n",
       "      <th></th>\n",
       "      <th></th>\n",
       "      <th></th>\n",
       "      <th></th>\n",
       "      <th></th>\n",
       "      <th></th>\n",
       "      <th></th>\n",
       "    </tr>\n",
       "  </thead>\n",
       "  <tbody>\n",
       "    <tr>\n",
       "      <th>54c7ca1f3d7b2</th>\n",
       "      <td>ACANTHACEAE</td>\n",
       "      <td>Aphelandra espirito-santensis</td>\n",
       "      <td></td>\n",
       "      <td>RB</td>\n",
       "      <td>287116</td>\n",
       "      <td>2110</td>\n",
       "      <td>Martinelli, G.</td>\n",
       "      <td>1977</td>\n",
       "      <td>5</td>\n",
       "      <td>15.0</td>\n",
       "      <td>...</td>\n",
       "      <td>ES</td>\n",
       "      <td>São Mateus</td>\n",
       "      <td>Lagoa do Macaco. REBIO de Sooretama. Obs.: hel...</td>\n",
       "      <td>-19.017326</td>\n",
       "      <td>-40.083059</td>\n",
       "      <td>ACANTHACEAE</td>\n",
       "      <td>Aphelandra espirito-santensis</td>\n",
       "      <td>True</td>\n",
       "      <td>True</td>\n",
       "      <td></td>\n",
       "    </tr>\n",
       "    <tr>\n",
       "      <th>54c7ca1f3d839</th>\n",
       "      <td>ACANTHACEAE</td>\n",
       "      <td>Aphelandra espirito-santensis</td>\n",
       "      <td></td>\n",
       "      <td>RB</td>\n",
       "      <td>35275</td>\n",
       "      <td>3381</td>\n",
       "      <td>Kollmann, L.</td>\n",
       "      <td>2000</td>\n",
       "      <td>11</td>\n",
       "      <td>23.0</td>\n",
       "      <td>...</td>\n",
       "      <td>ES</td>\n",
       "      <td>Barra de São Francisco</td>\n",
       "      <td>Córrego das Palmas, terreno de Roberto Strey.</td>\n",
       "      <td>-18.677231</td>\n",
       "      <td>-40.838108</td>\n",
       "      <td>ACANTHACEAE</td>\n",
       "      <td>Aphelandra espirito-santensis</td>\n",
       "      <td>True</td>\n",
       "      <td>True</td>\n",
       "      <td>Erva rasteira na sombra. Folhas verdes escuras...</td>\n",
       "    </tr>\n",
       "    <tr>\n",
       "      <th>54c7ca1f3d8bb</th>\n",
       "      <td>ACANTHACEAE</td>\n",
       "      <td>Aphelandra espirito-santensis</td>\n",
       "      <td></td>\n",
       "      <td>RB</td>\n",
       "      <td>35287</td>\n",
       "      <td>3747</td>\n",
       "      <td>Folli, D.A.</td>\n",
       "      <td>2000</td>\n",
       "      <td>11</td>\n",
       "      <td>21.0</td>\n",
       "      <td>...</td>\n",
       "      <td>ES</td>\n",
       "      <td>Linhares</td>\n",
       "      <td>Reserva Natural CVRD, Estrada Peroba Osso, Km ...</td>\n",
       "      <td>-19.161753</td>\n",
       "      <td>-39.934817</td>\n",
       "      <td>ACANTHACEAE</td>\n",
       "      <td>Aphelandra espirito-santensis</td>\n",
       "      <td>True</td>\n",
       "      <td>True</td>\n",
       "      <td>Terrestre, herbáceo, botão amarelo, flor amare...</td>\n",
       "    </tr>\n",
       "  </tbody>\n",
       "</table>\n",
       "<p>3 rows × 21 columns</p>\n",
       "</div>"
      ],
      "text/plain": [
       "                 familia aceita                    nome aceito literatura  \\\n",
       "id da ocorrência                                                            \n",
       "54c7ca1f3d7b2       ACANTHACEAE  Aphelandra espirito-santensis              \n",
       "54c7ca1f3d839       ACANTHACEAE  Aphelandra espirito-santensis              \n",
       "54c7ca1f3d8bb       ACANTHACEAE  Aphelandra espirito-santensis              \n",
       "\n",
       "                 código da coleção número de catálogo/código de barras  \\\n",
       "id da ocorrência                                                         \n",
       "54c7ca1f3d7b2                   RB                              287116   \n",
       "54c7ca1f3d839                   RB                               35275   \n",
       "54c7ca1f3d8bb                   RB                               35287   \n",
       "\n",
       "                 número do coletor         coletor ano da coleta  \\\n",
       "id da ocorrência                                                   \n",
       "54c7ca1f3d7b2                 2110  Martinelli, G.          1977   \n",
       "54c7ca1f3d839                 3381    Kollmann, L.          2000   \n",
       "54c7ca1f3d8bb                 3747     Folli, D.A.          2000   \n",
       "\n",
       "                  mês da coleta  dia da coleta  \\\n",
       "id da ocorrência                                 \n",
       "54c7ca1f3d7b2                 5           15.0   \n",
       "54c7ca1f3d839                11           23.0   \n",
       "54c7ca1f3d8bb                11           21.0   \n",
       "\n",
       "                                        ...                         estado  \\\n",
       "id da ocorrência                        ...                                  \n",
       "54c7ca1f3d7b2                           ...                             ES   \n",
       "54c7ca1f3d839                           ...                             ES   \n",
       "54c7ca1f3d8bb                           ...                             ES   \n",
       "\n",
       "                               município  \\\n",
       "id da ocorrência                           \n",
       "54c7ca1f3d7b2                 São Mateus   \n",
       "54c7ca1f3d839     Barra de São Francisco   \n",
       "54c7ca1f3d8bb                   Linhares   \n",
       "\n",
       "                                                         localidade  \\\n",
       "id da ocorrência                                                      \n",
       "54c7ca1f3d7b2     Lagoa do Macaco. REBIO de Sooretama. Obs.: hel...   \n",
       "54c7ca1f3d839         Córrego das Palmas, terreno de Roberto Strey.   \n",
       "54c7ca1f3d8bb     Reserva Natural CVRD, Estrada Peroba Osso, Km ...   \n",
       "\n",
       "                   latitude  longitude      família  \\\n",
       "id da ocorrência                                      \n",
       "54c7ca1f3d7b2    -19.017326 -40.083059  ACANTHACEAE   \n",
       "54c7ca1f3d839    -18.677231 -40.838108  ACANTHACEAE   \n",
       "54c7ca1f3d8bb    -19.161753 -39.934817  ACANTHACEAE   \n",
       "\n",
       "                                nome científico status SIG válido  \\\n",
       "id da ocorrência                                                    \n",
       "54c7ca1f3d7b2     Aphelandra espirito-santensis       True   True   \n",
       "54c7ca1f3d839     Aphelandra espirito-santensis       True   True   \n",
       "54c7ca1f3d8bb     Aphelandra espirito-santensis       True   True   \n",
       "\n",
       "                                                        observações  \n",
       "id da ocorrência                                                     \n",
       "54c7ca1f3d7b2                                                        \n",
       "54c7ca1f3d839     Erva rasteira na sombra. Folhas verdes escuras...  \n",
       "54c7ca1f3d8bb     Terrestre, herbáceo, botão amarelo, flor amare...  \n",
       "\n",
       "[3 rows x 21 columns]"
      ]
     },
     "execution_count": 3,
     "metadata": {},
     "output_type": "execute_result"
    }
   ],
   "source": [
    "df.head(3)"
   ]
  },
  {
   "cell_type": "code",
   "execution_count": 7,
   "metadata": {
    "ExecuteTime": {
     "end_time": "2017-07-29T14:20:44.799657Z",
     "start_time": "2017-07-29T14:20:42.888224Z"
    },
    "scrolled": false
   },
   "outputs": [
    {
     "name": "stderr",
     "output_type": "stream",
     "text": [
      "/home/claudino/Projetos/pythonOnRioXXII-IA/lib/python3.5/site-packages/bkcharts/builders/donut_builder.py:118: PerformanceWarning: indexing past lexsort depth may impact performance.\n",
      "  chart = create_and_build(DonutBuilder, data, **kw)\n"
     ]
    }
   ],
   "source": [
    "from bokeh.charts import Donut, show, output_notebook, output_file\n",
    "\n",
    "#bokeh.plotting.figure(x_axis_type = \"datetime\",    \n",
    "#  tools=\"pan,wheel_zoom,box_zoom,reset,resize,previewsave\",plot_width=1000, plot_width=1000\n",
    "#  name=\"myplot\")\n",
    "\n",
    "d = Donut(df,\n",
    "          label=['estado', 'família'],\n",
    "          values='mês da coleta', plot_width=900, plot_height=900)\n",
    "\n",
    "output_file(filename='Familia_por_estado.html', title=\"Família por estado\")\n",
    "#output_notebook()\n",
    "\n",
    "show(d)"
   ]
  },
  {
   "cell_type": "code",
   "execution_count": null,
   "metadata": {
    "collapsed": true
   },
   "outputs": [],
   "source": []
  }
 ],
 "metadata": {
  "kernelspec": {
   "display_name": "Python 3",
   "language": "python",
   "name": "python3"
  },
  "language_info": {
   "codemirror_mode": {
    "name": "ipython",
    "version": 3
   },
   "file_extension": ".py",
   "mimetype": "text/x-python",
   "name": "python",
   "nbconvert_exporter": "python",
   "pygments_lexer": "ipython3",
   "version": "3.5.3"
  },
  "latex_envs": {
   "LaTeX_envs_menu_present": true,
   "autocomplete": true,
   "bibliofile": "biblio.bib",
   "cite_by": "apalike",
   "current_citInitial": 1,
   "eqLabelWithNumbers": true,
   "eqNumInitial": 0,
   "hotkeys": {
    "equation": "Ctrl-E",
    "itemize": "Ctrl-I"
   },
   "labels_anchors": false,
   "latex_user_defs": false,
   "report_style_numbering": false,
   "user_envs_cfg": false
  },
  "toc": {
   "colors": {
    "hover_highlight": "#DAA520",
    "navigate_num": "#000000",
    "navigate_text": "#333333",
    "running_highlight": "#FF0000",
    "selected_highlight": "#FFD700",
    "sidebar_border": "#EEEEEE",
    "wrapper_background": "#FFFFFF"
   },
   "moveMenuLeft": true,
   "nav_menu": {
    "height": "12px",
    "width": "252px"
   },
   "navigate_menu": true,
   "number_sections": true,
   "sideBar": true,
   "threshold": 4,
   "toc_cell": false,
   "toc_section_display": "block",
   "toc_window_display": true,
   "widenNotebook": false
  },
  "varInspector": {
   "cols": {
    "lenName": 16,
    "lenType": 16,
    "lenVar": 40
   },
   "kernels_config": {
    "python": {
     "delete_cmd_postfix": "",
     "delete_cmd_prefix": "del ",
     "library": "var_list.py",
     "varRefreshCmd": "print(var_dic_list())"
    },
    "r": {
     "delete_cmd_postfix": ") ",
     "delete_cmd_prefix": "rm(",
     "library": "var_list.r",
     "varRefreshCmd": "cat(var_dic_list()) "
    }
   },
   "types_to_exclude": [
    "module",
    "function",
    "builtin_function_or_method",
    "instance",
    "_Feature"
   ],
   "window_display": false
  }
 },
 "nbformat": 4,
 "nbformat_minor": 2
}
